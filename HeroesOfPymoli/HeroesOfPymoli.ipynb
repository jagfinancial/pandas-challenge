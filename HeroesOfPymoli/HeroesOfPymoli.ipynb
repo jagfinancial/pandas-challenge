{
 "cells": [
  {
   "cell_type": "code",
   "execution_count": 1,
   "metadata": {},
   "outputs": [
    {
     "data": {
      "text/html": [
       "<div>\n",
       "<style scoped>\n",
       "    .dataframe tbody tr th:only-of-type {\n",
       "        vertical-align: middle;\n",
       "    }\n",
       "\n",
       "    .dataframe tbody tr th {\n",
       "        vertical-align: top;\n",
       "    }\n",
       "\n",
       "    .dataframe thead th {\n",
       "        text-align: right;\n",
       "    }\n",
       "</style>\n",
       "<table border=\"1\" class=\"dataframe\">\n",
       "  <thead>\n",
       "    <tr style=\"text-align: right;\">\n",
       "      <th></th>\n",
       "      <th>Purchase ID</th>\n",
       "      <th>SN</th>\n",
       "      <th>Age</th>\n",
       "      <th>Gender</th>\n",
       "      <th>Item ID</th>\n",
       "      <th>Item Name</th>\n",
       "      <th>Price</th>\n",
       "    </tr>\n",
       "  </thead>\n",
       "  <tbody>\n",
       "    <tr>\n",
       "      <th>0</th>\n",
       "      <td>0</td>\n",
       "      <td>Lisim78</td>\n",
       "      <td>20</td>\n",
       "      <td>Male</td>\n",
       "      <td>108</td>\n",
       "      <td>Extraction, Quickblade Of Trembling Hands</td>\n",
       "      <td>3.53</td>\n",
       "    </tr>\n",
       "    <tr>\n",
       "      <th>1</th>\n",
       "      <td>1</td>\n",
       "      <td>Lisovynya38</td>\n",
       "      <td>40</td>\n",
       "      <td>Male</td>\n",
       "      <td>143</td>\n",
       "      <td>Frenzied Scimitar</td>\n",
       "      <td>1.56</td>\n",
       "    </tr>\n",
       "    <tr>\n",
       "      <th>2</th>\n",
       "      <td>2</td>\n",
       "      <td>Ithergue48</td>\n",
       "      <td>24</td>\n",
       "      <td>Male</td>\n",
       "      <td>92</td>\n",
       "      <td>Final Critic</td>\n",
       "      <td>4.88</td>\n",
       "    </tr>\n",
       "    <tr>\n",
       "      <th>3</th>\n",
       "      <td>3</td>\n",
       "      <td>Chamassasya86</td>\n",
       "      <td>24</td>\n",
       "      <td>Male</td>\n",
       "      <td>100</td>\n",
       "      <td>Blindscythe</td>\n",
       "      <td>3.27</td>\n",
       "    </tr>\n",
       "    <tr>\n",
       "      <th>4</th>\n",
       "      <td>4</td>\n",
       "      <td>Iskosia90</td>\n",
       "      <td>23</td>\n",
       "      <td>Male</td>\n",
       "      <td>131</td>\n",
       "      <td>Fury</td>\n",
       "      <td>1.44</td>\n",
       "    </tr>\n",
       "    <tr>\n",
       "      <th>...</th>\n",
       "      <td>...</td>\n",
       "      <td>...</td>\n",
       "      <td>...</td>\n",
       "      <td>...</td>\n",
       "      <td>...</td>\n",
       "      <td>...</td>\n",
       "      <td>...</td>\n",
       "    </tr>\n",
       "    <tr>\n",
       "      <th>775</th>\n",
       "      <td>775</td>\n",
       "      <td>Aethedru70</td>\n",
       "      <td>21</td>\n",
       "      <td>Female</td>\n",
       "      <td>60</td>\n",
       "      <td>Wolf</td>\n",
       "      <td>3.54</td>\n",
       "    </tr>\n",
       "    <tr>\n",
       "      <th>776</th>\n",
       "      <td>776</td>\n",
       "      <td>Iral74</td>\n",
       "      <td>21</td>\n",
       "      <td>Male</td>\n",
       "      <td>164</td>\n",
       "      <td>Exiled Doomblade</td>\n",
       "      <td>1.63</td>\n",
       "    </tr>\n",
       "    <tr>\n",
       "      <th>777</th>\n",
       "      <td>777</td>\n",
       "      <td>Yathecal72</td>\n",
       "      <td>20</td>\n",
       "      <td>Male</td>\n",
       "      <td>67</td>\n",
       "      <td>Celeste, Incarnation of the Corrupted</td>\n",
       "      <td>3.46</td>\n",
       "    </tr>\n",
       "    <tr>\n",
       "      <th>778</th>\n",
       "      <td>778</td>\n",
       "      <td>Sisur91</td>\n",
       "      <td>7</td>\n",
       "      <td>Male</td>\n",
       "      <td>92</td>\n",
       "      <td>Final Critic</td>\n",
       "      <td>4.19</td>\n",
       "    </tr>\n",
       "    <tr>\n",
       "      <th>779</th>\n",
       "      <td>779</td>\n",
       "      <td>Ennrian78</td>\n",
       "      <td>24</td>\n",
       "      <td>Male</td>\n",
       "      <td>50</td>\n",
       "      <td>Dawn</td>\n",
       "      <td>4.60</td>\n",
       "    </tr>\n",
       "  </tbody>\n",
       "</table>\n",
       "<p>780 rows × 7 columns</p>\n",
       "</div>"
      ],
      "text/plain": [
       "     Purchase ID             SN  Age  Gender  Item ID  \\\n",
       "0              0        Lisim78   20    Male      108   \n",
       "1              1    Lisovynya38   40    Male      143   \n",
       "2              2     Ithergue48   24    Male       92   \n",
       "3              3  Chamassasya86   24    Male      100   \n",
       "4              4      Iskosia90   23    Male      131   \n",
       "..           ...            ...  ...     ...      ...   \n",
       "775          775     Aethedru70   21  Female       60   \n",
       "776          776         Iral74   21    Male      164   \n",
       "777          777     Yathecal72   20    Male       67   \n",
       "778          778        Sisur91    7    Male       92   \n",
       "779          779      Ennrian78   24    Male       50   \n",
       "\n",
       "                                     Item Name  Price  \n",
       "0    Extraction, Quickblade Of Trembling Hands   3.53  \n",
       "1                            Frenzied Scimitar   1.56  \n",
       "2                                 Final Critic   4.88  \n",
       "3                                  Blindscythe   3.27  \n",
       "4                                         Fury   1.44  \n",
       "..                                         ...    ...  \n",
       "775                                       Wolf   3.54  \n",
       "776                           Exiled Doomblade   1.63  \n",
       "777      Celeste, Incarnation of the Corrupted   3.46  \n",
       "778                               Final Critic   4.19  \n",
       "779                                       Dawn   4.60  \n",
       "\n",
       "[780 rows x 7 columns]"
      ]
     },
     "execution_count": 1,
     "metadata": {},
     "output_type": "execute_result"
    }
   ],
   "source": [
    "# Dependencies and Setup\n",
    "import pandas as pd\n",
    "import numpy as np\n",
    "\n",
    "# File to Load (Remember to Change These)\n",
    "file_to_load =\"Resources/purchase_data.csv\"\n",
    "\n",
    "# Read Purchasing File and store into Pandas data frame\n",
    "purchase_data = pd.read_csv(file_to_load)\n",
    "purchase_data"
   ]
  },
  {
   "cell_type": "markdown",
   "metadata": {},
   "source": [
    "## Player Count"
   ]
  },
  {
   "cell_type": "markdown",
   "metadata": {},
   "source": [
    "* Display the total number of players\n"
   ]
  },
  {
   "cell_type": "code",
   "execution_count": 2,
   "metadata": {},
   "outputs": [
    {
     "data": {
      "text/html": [
       "<div>\n",
       "<style scoped>\n",
       "    .dataframe tbody tr th:only-of-type {\n",
       "        vertical-align: middle;\n",
       "    }\n",
       "\n",
       "    .dataframe tbody tr th {\n",
       "        vertical-align: top;\n",
       "    }\n",
       "\n",
       "    .dataframe thead th {\n",
       "        text-align: right;\n",
       "    }\n",
       "</style>\n",
       "<table border=\"1\" class=\"dataframe\">\n",
       "  <thead>\n",
       "    <tr style=\"text-align: right;\">\n",
       "      <th></th>\n",
       "      <th>Total Players</th>\n",
       "    </tr>\n",
       "  </thead>\n",
       "  <tbody>\n",
       "    <tr>\n",
       "      <th>0</th>\n",
       "      <td>576</td>\n",
       "    </tr>\n",
       "  </tbody>\n",
       "</table>\n",
       "</div>"
      ],
      "text/plain": [
       "   Total Players\n",
       "0            576"
      ]
     },
     "execution_count": 2,
     "metadata": {},
     "output_type": "execute_result"
    }
   ],
   "source": [
    "#Use length of SN for number or players\n",
    "number_of_players=len(purchase_data[\"SN\"].value_counts())\n",
    "\n",
    "#create data frame\n",
    "player_count=pd.DataFrame({'Total Players':[number_of_players]})\n",
    "player_count"
   ]
  },
  {
   "cell_type": "markdown",
   "metadata": {},
   "source": [
    "## Purchasing Analysis (Total)"
   ]
  },
  {
   "cell_type": "markdown",
   "metadata": {},
   "source": [
    "* Run basic calculations to obtain number of unique items, average price, etc.\n",
    "\n",
    "\n",
    "* Create a summary data frame to hold the results\n",
    "\n",
    "\n",
    "* Optional: give the displayed data cleaner formatting\n",
    "\n",
    "\n",
    "* Display the summary data frame\n"
   ]
  },
  {
   "cell_type": "code",
   "execution_count": 3,
   "metadata": {
    "scrolled": true
   },
   "outputs": [
    {
     "data": {
      "text/html": [
       "<style  type=\"text/css\" >\n",
       "</style><table id=\"T_cd79f84f_9f59_11eb_b611_30e37a37f63f\" ><thead>    <tr>        <th class=\"blank level0\" ></th>        <th class=\"col_heading level0 col0\" >Number of Unique Items</th>        <th class=\"col_heading level0 col1\" >Average Price</th>        <th class=\"col_heading level0 col2\" >Number of Purchases</th>        <th class=\"col_heading level0 col3\" >Total Revenue</th>    </tr></thead><tbody>\n",
       "                <tr>\n",
       "                        <th id=\"T_cd79f84f_9f59_11eb_b611_30e37a37f63flevel0_row0\" class=\"row_heading level0 row0\" >0</th>\n",
       "                        <td id=\"T_cd79f84f_9f59_11eb_b611_30e37a37f63frow0_col0\" class=\"data row0 col0\" >179</td>\n",
       "                        <td id=\"T_cd79f84f_9f59_11eb_b611_30e37a37f63frow0_col1\" class=\"data row0 col1\" >$3.05</td>\n",
       "                        <td id=\"T_cd79f84f_9f59_11eb_b611_30e37a37f63frow0_col2\" class=\"data row0 col2\" >780</td>\n",
       "                        <td id=\"T_cd79f84f_9f59_11eb_b611_30e37a37f63frow0_col3\" class=\"data row0 col3\" >$2,379.77</td>\n",
       "            </tr>\n",
       "    </tbody></table>"
      ],
      "text/plain": [
       "<pandas.io.formats.style.Styler at 0x24390425400>"
      ]
     },
     "execution_count": 3,
     "metadata": {},
     "output_type": "execute_result"
    }
   ],
   "source": [
    "price_df=purchase_data[[\"Item Name\",\"Price\"]]\n",
    "\n",
    "#Number of Unique Items\n",
    "unique_items=len((purchase_data[\"Item Name\"]).unique())\n",
    "\n",
    "#Average Purchase Price\n",
    "average_price=round(purchase_data[\"Price\"].mean(),2)\n",
    "\n",
    "#Total Number of Purchases\n",
    "number_of_purchase=purchase_data[\"Price\"].count()\n",
    "\n",
    "#Total Revenue\n",
    "purchase_total=purchase_data[\"Price\"].sum()\n",
    "\n",
    "#Create Data Frame\n",
    "purchasing_analysis=pd.DataFrame({'Number of Unique Items':[unique_items],'Average Price':[average_price],\n",
    "                                  'Number of Purchases':[number_of_purchase],'Total Revenue':[purchase_total]})\n",
    "purchasing_analysis.style.format({'Average Price':\"${:,.2f}\",'Total Revenue':'${:,.2f}'})\n",
    "\n"
   ]
  },
  {
   "cell_type": "markdown",
   "metadata": {},
   "source": [
    "## Gender Demographics"
   ]
  },
  {
   "cell_type": "markdown",
   "metadata": {},
   "source": [
    "* Percentage and Count of Male Players\n",
    "\n",
    "\n",
    "* Percentage and Count of Female Players\n",
    "\n",
    "\n",
    "* Percentage and Count of Other / Non-Disclosed\n",
    "\n",
    "\n"
   ]
  },
  {
   "cell_type": "code",
   "execution_count": 4,
   "metadata": {},
   "outputs": [
    {
     "data": {
      "text/html": [
       "<style  type=\"text/css\" >\n",
       "</style><table id=\"T_cd80156f_9f59_11eb_9ff1_30e37a37f63f\" ><thead>    <tr>        <th class=\"blank level0\" ></th>        <th class=\"col_heading level0 col0\" >Total Count</th>        <th class=\"col_heading level0 col1\" >Percentage of Players %</th>    </tr></thead><tbody>\n",
       "                <tr>\n",
       "                        <th id=\"T_cd80156f_9f59_11eb_9ff1_30e37a37f63flevel0_row0\" class=\"row_heading level0 row0\" >Male</th>\n",
       "                        <td id=\"T_cd80156f_9f59_11eb_9ff1_30e37a37f63frow0_col0\" class=\"data row0 col0\" >484</td>\n",
       "                        <td id=\"T_cd80156f_9f59_11eb_9ff1_30e37a37f63frow0_col1\" class=\"data row0 col1\" >84.03%</td>\n",
       "            </tr>\n",
       "            <tr>\n",
       "                        <th id=\"T_cd80156f_9f59_11eb_9ff1_30e37a37f63flevel0_row1\" class=\"row_heading level0 row1\" >Female</th>\n",
       "                        <td id=\"T_cd80156f_9f59_11eb_9ff1_30e37a37f63frow1_col0\" class=\"data row1 col0\" >81</td>\n",
       "                        <td id=\"T_cd80156f_9f59_11eb_9ff1_30e37a37f63frow1_col1\" class=\"data row1 col1\" >14.06%</td>\n",
       "            </tr>\n",
       "            <tr>\n",
       "                        <th id=\"T_cd80156f_9f59_11eb_9ff1_30e37a37f63flevel0_row2\" class=\"row_heading level0 row2\" >Other / Non-Disclosed</th>\n",
       "                        <td id=\"T_cd80156f_9f59_11eb_9ff1_30e37a37f63frow2_col0\" class=\"data row2 col0\" >11</td>\n",
       "                        <td id=\"T_cd80156f_9f59_11eb_9ff1_30e37a37f63frow2_col1\" class=\"data row2 col1\" >1.91%</td>\n",
       "            </tr>\n",
       "    </tbody></table>"
      ],
      "text/plain": [
       "<pandas.io.formats.style.Styler at 0x2438e3262e0>"
      ]
     },
     "execution_count": 4,
     "metadata": {},
     "output_type": "execute_result"
    }
   ],
   "source": [
    "#Group purchase by gender\n",
    "gender_info=purchase_data.groupby(\"Gender\")\n",
    "\n",
    "#Count of genders (male and female)\n",
    "gender_count = gender_info.nunique()[\"SN\"]\n",
    "\n",
    "#Percentage of genders (male and female)\n",
    "gender_percentage = round(gender_count/number_of_players * 100,2)\n",
    "\n",
    "#Create data frame\n",
    "gender_demo=pd.DataFrame({'Total Count':gender_count,'Percentage of Players %': gender_percentage})\n",
    "gender_demo.index.name=None\n",
    "gender_demo.sort_values([\"Total Count\"], ascending = False).style.format({\"Percentage of Players %\":\"{:.2f}%\"})\n"
   ]
  },
  {
   "cell_type": "markdown",
   "metadata": {},
   "source": [
    "\n",
    "## Purchasing Analysis (Gender)"
   ]
  },
  {
   "cell_type": "markdown",
   "metadata": {},
   "source": [
    "* Run basic calculations to obtain purchase count, avg. purchase price, avg. purchase total per person etc. by gender\n",
    "\n",
    "\n",
    "\n",
    "\n",
    "* Create a summary data frame to hold the results\n",
    "\n",
    "\n",
    "* Optional: give the displayed data cleaner formatting\n",
    "\n",
    "\n",
    "* Display the summary data frame"
   ]
  },
  {
   "cell_type": "code",
   "execution_count": 5,
   "metadata": {},
   "outputs": [
    {
     "data": {
      "text/html": [
       "<style  type=\"text/css\" >\n",
       "</style><table id=\"T_cd9f5f93_9f59_11eb_a78d_30e37a37f63f\" ><thead>    <tr>        <th class=\"blank level0\" ></th>        <th class=\"col_heading level0 col0\" >Purchase Count</th>        <th class=\"col_heading level0 col1\" >Average Purchase Price</th>        <th class=\"col_heading level0 col2\" >Total Purchase Value</th>        <th class=\"col_heading level0 col3\" >Avg Total Purchase per Person</th>    </tr>    <tr>        <th class=\"index_name level0\" >Gender</th>        <th class=\"blank\" ></th>        <th class=\"blank\" ></th>        <th class=\"blank\" ></th>        <th class=\"blank\" ></th>    </tr></thead><tbody>\n",
       "                <tr>\n",
       "                        <th id=\"T_cd9f5f93_9f59_11eb_a78d_30e37a37f63flevel0_row0\" class=\"row_heading level0 row0\" >Female</th>\n",
       "                        <td id=\"T_cd9f5f93_9f59_11eb_a78d_30e37a37f63frow0_col0\" class=\"data row0 col0\" >113</td>\n",
       "                        <td id=\"T_cd9f5f93_9f59_11eb_a78d_30e37a37f63frow0_col1\" class=\"data row0 col1\" >$3.20</td>\n",
       "                        <td id=\"T_cd9f5f93_9f59_11eb_a78d_30e37a37f63frow0_col2\" class=\"data row0 col2\" >$361.94</td>\n",
       "                        <td id=\"T_cd9f5f93_9f59_11eb_a78d_30e37a37f63frow0_col3\" class=\"data row0 col3\" >$4.47</td>\n",
       "            </tr>\n",
       "            <tr>\n",
       "                        <th id=\"T_cd9f5f93_9f59_11eb_a78d_30e37a37f63flevel0_row1\" class=\"row_heading level0 row1\" >Male</th>\n",
       "                        <td id=\"T_cd9f5f93_9f59_11eb_a78d_30e37a37f63frow1_col0\" class=\"data row1 col0\" >652</td>\n",
       "                        <td id=\"T_cd9f5f93_9f59_11eb_a78d_30e37a37f63frow1_col1\" class=\"data row1 col1\" >$3.02</td>\n",
       "                        <td id=\"T_cd9f5f93_9f59_11eb_a78d_30e37a37f63frow1_col2\" class=\"data row1 col2\" >$1,967.64</td>\n",
       "                        <td id=\"T_cd9f5f93_9f59_11eb_a78d_30e37a37f63frow1_col3\" class=\"data row1 col3\" >$4.07</td>\n",
       "            </tr>\n",
       "            <tr>\n",
       "                        <th id=\"T_cd9f5f93_9f59_11eb_a78d_30e37a37f63flevel0_row2\" class=\"row_heading level0 row2\" >Other / Non-Disclosed</th>\n",
       "                        <td id=\"T_cd9f5f93_9f59_11eb_a78d_30e37a37f63frow2_col0\" class=\"data row2 col0\" >15</td>\n",
       "                        <td id=\"T_cd9f5f93_9f59_11eb_a78d_30e37a37f63frow2_col1\" class=\"data row2 col1\" >$3.35</td>\n",
       "                        <td id=\"T_cd9f5f93_9f59_11eb_a78d_30e37a37f63frow2_col2\" class=\"data row2 col2\" >$50.19</td>\n",
       "                        <td id=\"T_cd9f5f93_9f59_11eb_a78d_30e37a37f63frow2_col3\" class=\"data row2 col3\" >$4.56</td>\n",
       "            </tr>\n",
       "    </tbody></table>"
      ],
      "text/plain": [
       "<pandas.io.formats.style.Styler at 0x24390393d90>"
      ]
     },
     "execution_count": 5,
     "metadata": {},
     "output_type": "execute_result"
    }
   ],
   "source": [
    "#Group purchase by gender\n",
    "gender_info=purchase_data.groupby(\"Gender\")\n",
    "\n",
    "#Count screen names\n",
    "total_count_gender = gender_info.nunique()[\"SN\"]\n",
    "\n",
    "#Purchase Count\n",
    "number_of_purchase=gender_info[\"Purchase ID\"].count()\n",
    "\n",
    "#Average Purchase Price\n",
    "average_price=round(gender_info[\"Price\"].mean(),2)\n",
    "\n",
    "#Average purchase total by gender \n",
    "avg_purchase_total =gender_info[\"Price\"].sum()\n",
    "\n",
    "#Average purchase total per person\n",
    "avg_purchase_person=avg_purchase_total/total_count_gender\n",
    "\n",
    "#Create dataframe\n",
    "gender_demo=pd.DataFrame({\"Purchase Count\":number_of_purchase,\"Average Purchase Price\":average_price,\"Total Purchase Value\":avg_purchase_total,\"Avg Total Purchase per Person\":avg_purchase_person})\n",
    "gender_demo.style.format({'Average Purchase Price':\"${:,.2f}\",'Total Purchase Value':'${:,.2f}','Avg Total Purchase per Person':'${:,.2f}'})\n",
    "\n"
   ]
  },
  {
   "cell_type": "markdown",
   "metadata": {},
   "source": [
    "## Age Demographics"
   ]
  },
  {
   "cell_type": "markdown",
   "metadata": {},
   "source": [
    "* Establish bins for ages\n",
    "\n",
    "\n",
    "* Categorize the existing players using the age bins. Hint: use pd.cut()\n",
    "\n",
    "\n",
    "* Calculate the numbers and percentages by age group\n",
    "\n",
    "\n",
    "* Create a summary data frame to hold the results\n",
    "\n",
    "\n",
    "* Optional: round the percentage column to two decimal points\n",
    "\n",
    "\n",
    "* Display Age Demographics Table\n"
   ]
  },
  {
   "cell_type": "code",
   "execution_count": 6,
   "metadata": {},
   "outputs": [
    {
     "data": {
      "text/html": [
       "<style  type=\"text/css\" >\n",
       "</style><table id=\"T_cda88242_9f59_11eb_a996_30e37a37f63f\" ><thead>    <tr>        <th class=\"blank level0\" ></th>        <th class=\"col_heading level0 col0\" >Total Count</th>        <th class=\"col_heading level0 col1\" >Percentage of Players %</th>    </tr>    <tr>        <th class=\"index_name level0\" >Age Group</th>        <th class=\"blank\" ></th>        <th class=\"blank\" ></th>    </tr></thead><tbody>\n",
       "                <tr>\n",
       "                        <th id=\"T_cda88242_9f59_11eb_a996_30e37a37f63flevel0_row0\" class=\"row_heading level0 row0\" ><10</th>\n",
       "                        <td id=\"T_cda88242_9f59_11eb_a996_30e37a37f63frow0_col0\" class=\"data row0 col0\" >17</td>\n",
       "                        <td id=\"T_cda88242_9f59_11eb_a996_30e37a37f63frow0_col1\" class=\"data row0 col1\" >2.95%</td>\n",
       "            </tr>\n",
       "            <tr>\n",
       "                        <th id=\"T_cda88242_9f59_11eb_a996_30e37a37f63flevel0_row1\" class=\"row_heading level0 row1\" >10-14</th>\n",
       "                        <td id=\"T_cda88242_9f59_11eb_a996_30e37a37f63frow1_col0\" class=\"data row1 col0\" >22</td>\n",
       "                        <td id=\"T_cda88242_9f59_11eb_a996_30e37a37f63frow1_col1\" class=\"data row1 col1\" >3.82%</td>\n",
       "            </tr>\n",
       "            <tr>\n",
       "                        <th id=\"T_cda88242_9f59_11eb_a996_30e37a37f63flevel0_row2\" class=\"row_heading level0 row2\" >15-19</th>\n",
       "                        <td id=\"T_cda88242_9f59_11eb_a996_30e37a37f63frow2_col0\" class=\"data row2 col0\" >107</td>\n",
       "                        <td id=\"T_cda88242_9f59_11eb_a996_30e37a37f63frow2_col1\" class=\"data row2 col1\" >18.58%</td>\n",
       "            </tr>\n",
       "            <tr>\n",
       "                        <th id=\"T_cda88242_9f59_11eb_a996_30e37a37f63flevel0_row3\" class=\"row_heading level0 row3\" >20-24</th>\n",
       "                        <td id=\"T_cda88242_9f59_11eb_a996_30e37a37f63frow3_col0\" class=\"data row3 col0\" >258</td>\n",
       "                        <td id=\"T_cda88242_9f59_11eb_a996_30e37a37f63frow3_col1\" class=\"data row3 col1\" >44.79%</td>\n",
       "            </tr>\n",
       "            <tr>\n",
       "                        <th id=\"T_cda88242_9f59_11eb_a996_30e37a37f63flevel0_row4\" class=\"row_heading level0 row4\" >25-29</th>\n",
       "                        <td id=\"T_cda88242_9f59_11eb_a996_30e37a37f63frow4_col0\" class=\"data row4 col0\" >77</td>\n",
       "                        <td id=\"T_cda88242_9f59_11eb_a996_30e37a37f63frow4_col1\" class=\"data row4 col1\" >13.37%</td>\n",
       "            </tr>\n",
       "            <tr>\n",
       "                        <th id=\"T_cda88242_9f59_11eb_a996_30e37a37f63flevel0_row5\" class=\"row_heading level0 row5\" >30-34</th>\n",
       "                        <td id=\"T_cda88242_9f59_11eb_a996_30e37a37f63frow5_col0\" class=\"data row5 col0\" >52</td>\n",
       "                        <td id=\"T_cda88242_9f59_11eb_a996_30e37a37f63frow5_col1\" class=\"data row5 col1\" >9.03%</td>\n",
       "            </tr>\n",
       "            <tr>\n",
       "                        <th id=\"T_cda88242_9f59_11eb_a996_30e37a37f63flevel0_row6\" class=\"row_heading level0 row6\" >35-39</th>\n",
       "                        <td id=\"T_cda88242_9f59_11eb_a996_30e37a37f63frow6_col0\" class=\"data row6 col0\" >31</td>\n",
       "                        <td id=\"T_cda88242_9f59_11eb_a996_30e37a37f63frow6_col1\" class=\"data row6 col1\" >5.38%</td>\n",
       "            </tr>\n",
       "            <tr>\n",
       "                        <th id=\"T_cda88242_9f59_11eb_a996_30e37a37f63flevel0_row7\" class=\"row_heading level0 row7\" >40+</th>\n",
       "                        <td id=\"T_cda88242_9f59_11eb_a996_30e37a37f63frow7_col0\" class=\"data row7 col0\" >12</td>\n",
       "                        <td id=\"T_cda88242_9f59_11eb_a996_30e37a37f63frow7_col1\" class=\"data row7 col1\" >2.08%</td>\n",
       "            </tr>\n",
       "    </tbody></table>"
      ],
      "text/plain": [
       "<pandas.io.formats.style.Styler at 0x2439158b250>"
      ]
     },
     "execution_count": 6,
     "metadata": {},
     "output_type": "execute_result"
    }
   ],
   "source": [
    "#Establish bins for ages\n",
    "bin_for_ages = [0, 9.90, 14.90, 19.90, 24.90, 29.90, 34.90, 39.90, 99999]\n",
    "Age_group_label = [\"<10\", \"10-14\", \"15-19\", \"20-24\", \"25-29\", \"30-34\", \"35-39\", \"40+\"]\n",
    "\n",
    "#Categorize the existing players using the age bins. Hint: use pd.cut()\n",
    "purchase_data[\"Age Group\"] = pd.cut(purchase_data[\"Age\"],bin_for_ages,labels=Age_group_label)\n",
    "purchase_data\n",
    "\n",
    "#Calculate the numbers and percentages by age group\n",
    "age_group=purchase_data.groupby('Age Group')\n",
    "total_count_by_age=age_group[\"SN\"].nunique()\n",
    "percentage_by_age=round((total_count_by_age/number_of_players)*100,2)\n",
    "\n",
    "#create data frame\n",
    "age_demo=pd.DataFrame({\"Total Count\":total_count_by_age,\"Percentage of Players %\":percentage_by_age})\n",
    "age_demo.style.format({\"Percentage of Players %\":\"{:,.2f}%\"})\n",
    "\n",
    " "
   ]
  },
  {
   "cell_type": "markdown",
   "metadata": {},
   "source": [
    "## Purchasing Analysis (Age)"
   ]
  },
  {
   "cell_type": "markdown",
   "metadata": {},
   "source": [
    "* Bin the purchase_data data frame by age\n",
    "\n",
    "\n",
    "* Run basic calculations to obtain purchase count, avg. purchase price, avg. purchase total per person etc. in the table below\n",
    "\n",
    "\n",
    "* Create a summary data frame to hold the results\n",
    "\n",
    "\n",
    "* Optional: give the displayed data cleaner formatting\n",
    "\n",
    "\n",
    "* Display the summary data frame"
   ]
  },
  {
   "cell_type": "code",
   "execution_count": 7,
   "metadata": {},
   "outputs": [
    {
     "data": {
      "text/html": [
       "<style  type=\"text/css\" >\n",
       "</style><table id=\"T_cdb0a820_9f59_11eb_98db_30e37a37f63f\" ><thead>    <tr>        <th class=\"blank level0\" ></th>        <th class=\"col_heading level0 col0\" >Purchase Count</th>        <th class=\"col_heading level0 col1\" >Average Purchase Price</th>        <th class=\"col_heading level0 col2\" >Total Purchase Value</th>        <th class=\"col_heading level0 col3\" >Avg Total Purchase per Person</th>    </tr>    <tr>        <th class=\"index_name level0\" >Age Group</th>        <th class=\"blank\" ></th>        <th class=\"blank\" ></th>        <th class=\"blank\" ></th>        <th class=\"blank\" ></th>    </tr></thead><tbody>\n",
       "                <tr>\n",
       "                        <th id=\"T_cdb0a820_9f59_11eb_98db_30e37a37f63flevel0_row0\" class=\"row_heading level0 row0\" ><10</th>\n",
       "                        <td id=\"T_cdb0a820_9f59_11eb_98db_30e37a37f63frow0_col0\" class=\"data row0 col0\" >23</td>\n",
       "                        <td id=\"T_cdb0a820_9f59_11eb_98db_30e37a37f63frow0_col1\" class=\"data row0 col1\" >$3.35</td>\n",
       "                        <td id=\"T_cdb0a820_9f59_11eb_98db_30e37a37f63frow0_col2\" class=\"data row0 col2\" >$77.13</td>\n",
       "                        <td id=\"T_cdb0a820_9f59_11eb_98db_30e37a37f63frow0_col3\" class=\"data row0 col3\" >$4.54</td>\n",
       "            </tr>\n",
       "            <tr>\n",
       "                        <th id=\"T_cdb0a820_9f59_11eb_98db_30e37a37f63flevel0_row1\" class=\"row_heading level0 row1\" >10-14</th>\n",
       "                        <td id=\"T_cdb0a820_9f59_11eb_98db_30e37a37f63frow1_col0\" class=\"data row1 col0\" >28</td>\n",
       "                        <td id=\"T_cdb0a820_9f59_11eb_98db_30e37a37f63frow1_col1\" class=\"data row1 col1\" >$2.96</td>\n",
       "                        <td id=\"T_cdb0a820_9f59_11eb_98db_30e37a37f63frow1_col2\" class=\"data row1 col2\" >$82.78</td>\n",
       "                        <td id=\"T_cdb0a820_9f59_11eb_98db_30e37a37f63frow1_col3\" class=\"data row1 col3\" >$3.76</td>\n",
       "            </tr>\n",
       "            <tr>\n",
       "                        <th id=\"T_cdb0a820_9f59_11eb_98db_30e37a37f63flevel0_row2\" class=\"row_heading level0 row2\" >15-19</th>\n",
       "                        <td id=\"T_cdb0a820_9f59_11eb_98db_30e37a37f63frow2_col0\" class=\"data row2 col0\" >136</td>\n",
       "                        <td id=\"T_cdb0a820_9f59_11eb_98db_30e37a37f63frow2_col1\" class=\"data row2 col1\" >$3.04</td>\n",
       "                        <td id=\"T_cdb0a820_9f59_11eb_98db_30e37a37f63frow2_col2\" class=\"data row2 col2\" >$412.89</td>\n",
       "                        <td id=\"T_cdb0a820_9f59_11eb_98db_30e37a37f63frow2_col3\" class=\"data row2 col3\" >$3.86</td>\n",
       "            </tr>\n",
       "            <tr>\n",
       "                        <th id=\"T_cdb0a820_9f59_11eb_98db_30e37a37f63flevel0_row3\" class=\"row_heading level0 row3\" >20-24</th>\n",
       "                        <td id=\"T_cdb0a820_9f59_11eb_98db_30e37a37f63frow3_col0\" class=\"data row3 col0\" >365</td>\n",
       "                        <td id=\"T_cdb0a820_9f59_11eb_98db_30e37a37f63frow3_col1\" class=\"data row3 col1\" >$3.05</td>\n",
       "                        <td id=\"T_cdb0a820_9f59_11eb_98db_30e37a37f63frow3_col2\" class=\"data row3 col2\" >$1,114.06</td>\n",
       "                        <td id=\"T_cdb0a820_9f59_11eb_98db_30e37a37f63frow3_col3\" class=\"data row3 col3\" >$4.32</td>\n",
       "            </tr>\n",
       "            <tr>\n",
       "                        <th id=\"T_cdb0a820_9f59_11eb_98db_30e37a37f63flevel0_row4\" class=\"row_heading level0 row4\" >25-29</th>\n",
       "                        <td id=\"T_cdb0a820_9f59_11eb_98db_30e37a37f63frow4_col0\" class=\"data row4 col0\" >101</td>\n",
       "                        <td id=\"T_cdb0a820_9f59_11eb_98db_30e37a37f63frow4_col1\" class=\"data row4 col1\" >$2.90</td>\n",
       "                        <td id=\"T_cdb0a820_9f59_11eb_98db_30e37a37f63frow4_col2\" class=\"data row4 col2\" >$293.00</td>\n",
       "                        <td id=\"T_cdb0a820_9f59_11eb_98db_30e37a37f63frow4_col3\" class=\"data row4 col3\" >$3.81</td>\n",
       "            </tr>\n",
       "            <tr>\n",
       "                        <th id=\"T_cdb0a820_9f59_11eb_98db_30e37a37f63flevel0_row5\" class=\"row_heading level0 row5\" >30-34</th>\n",
       "                        <td id=\"T_cdb0a820_9f59_11eb_98db_30e37a37f63frow5_col0\" class=\"data row5 col0\" >73</td>\n",
       "                        <td id=\"T_cdb0a820_9f59_11eb_98db_30e37a37f63frow5_col1\" class=\"data row5 col1\" >$2.93</td>\n",
       "                        <td id=\"T_cdb0a820_9f59_11eb_98db_30e37a37f63frow5_col2\" class=\"data row5 col2\" >$214.00</td>\n",
       "                        <td id=\"T_cdb0a820_9f59_11eb_98db_30e37a37f63frow5_col3\" class=\"data row5 col3\" >$4.12</td>\n",
       "            </tr>\n",
       "            <tr>\n",
       "                        <th id=\"T_cdb0a820_9f59_11eb_98db_30e37a37f63flevel0_row6\" class=\"row_heading level0 row6\" >35-39</th>\n",
       "                        <td id=\"T_cdb0a820_9f59_11eb_98db_30e37a37f63frow6_col0\" class=\"data row6 col0\" >41</td>\n",
       "                        <td id=\"T_cdb0a820_9f59_11eb_98db_30e37a37f63frow6_col1\" class=\"data row6 col1\" >$3.60</td>\n",
       "                        <td id=\"T_cdb0a820_9f59_11eb_98db_30e37a37f63frow6_col2\" class=\"data row6 col2\" >$147.67</td>\n",
       "                        <td id=\"T_cdb0a820_9f59_11eb_98db_30e37a37f63frow6_col3\" class=\"data row6 col3\" >$4.76</td>\n",
       "            </tr>\n",
       "            <tr>\n",
       "                        <th id=\"T_cdb0a820_9f59_11eb_98db_30e37a37f63flevel0_row7\" class=\"row_heading level0 row7\" >40+</th>\n",
       "                        <td id=\"T_cdb0a820_9f59_11eb_98db_30e37a37f63frow7_col0\" class=\"data row7 col0\" >13</td>\n",
       "                        <td id=\"T_cdb0a820_9f59_11eb_98db_30e37a37f63frow7_col1\" class=\"data row7 col1\" >$2.94</td>\n",
       "                        <td id=\"T_cdb0a820_9f59_11eb_98db_30e37a37f63frow7_col2\" class=\"data row7 col2\" >$38.24</td>\n",
       "                        <td id=\"T_cdb0a820_9f59_11eb_98db_30e37a37f63frow7_col3\" class=\"data row7 col3\" >$3.19</td>\n",
       "            </tr>\n",
       "    </tbody></table>"
      ],
      "text/plain": [
       "<pandas.io.formats.style.Styler at 0x243904095b0>"
      ]
     },
     "execution_count": 7,
     "metadata": {},
     "output_type": "execute_result"
    }
   ],
   "source": [
    "#Bin the purchase_data data frame by age\n",
    "\n",
    "#Run basic calculations to obtain purchase count, avg. purchase price, avg. purchase total per person etc. in the table below\n",
    "purchase_age_count=age_group['Purchase ID'].count()\n",
    "avg_purchase_price=round(age_group[\"Price\"].mean(),2)\n",
    "total_purchase_value=age_group['Price'].sum()\n",
    "total_per_person=round(total_purchase_value/total_count_by_age,2)\n",
    "\n",
    "#Create a summary data frame to hold the results\n",
    "#Create data frame\n",
    "purchase_age=pd.DataFrame({\"Purchase Count\":purchase_age_count,\"Average Purchase Price\":avg_purchase_price,\"Total Purchase Value\":total_purchase_value,\"Avg Total Purchase per Person\":total_per_person})      \n",
    "purchase_age.style.format({\"Average Purchase Price\":\"${:,.2f}\",\"Total Purchase Value\":\"${:,.2f}\",\"Avg Total Purchase per Person\":\"${:,.2f}\"})"
   ]
  },
  {
   "cell_type": "markdown",
   "metadata": {},
   "source": [
    "## Top Spenders"
   ]
  },
  {
   "cell_type": "markdown",
   "metadata": {},
   "source": [
    "* Run basic calculations to obtain the results in the table below\n",
    "\n",
    "\n",
    "* Create a summary data frame to hold the results\n",
    "\n",
    "\n",
    "* Sort the total purchase value column in descending order\n",
    "\n",
    "\n",
    "* Optional: give the displayed data cleaner formatting\n",
    "\n",
    "\n",
    "* Display a preview of the summary data frame\n",
    "\n"
   ]
  },
  {
   "cell_type": "code",
   "execution_count": 8,
   "metadata": {},
   "outputs": [
    {
     "data": {
      "text/html": [
       "<style  type=\"text/css\" >\n",
       "</style><table id=\"T_cdbb5a18_9f59_11eb_8b1b_30e37a37f63f\" ><thead>    <tr>        <th class=\"blank level0\" ></th>        <th class=\"col_heading level0 col0\" >Purchase Count</th>        <th class=\"col_heading level0 col1\" >Average Purchase Price</th>        <th class=\"col_heading level0 col2\" >Total Purchase Value</th>    </tr>    <tr>        <th class=\"index_name level0\" >SN</th>        <th class=\"blank\" ></th>        <th class=\"blank\" ></th>        <th class=\"blank\" ></th>    </tr></thead><tbody>\n",
       "                <tr>\n",
       "                        <th id=\"T_cdbb5a18_9f59_11eb_8b1b_30e37a37f63flevel0_row0\" class=\"row_heading level0 row0\" >Lisosia93</th>\n",
       "                        <td id=\"T_cdbb5a18_9f59_11eb_8b1b_30e37a37f63frow0_col0\" class=\"data row0 col0\" >5</td>\n",
       "                        <td id=\"T_cdbb5a18_9f59_11eb_8b1b_30e37a37f63frow0_col1\" class=\"data row0 col1\" >$3.79</td>\n",
       "                        <td id=\"T_cdbb5a18_9f59_11eb_8b1b_30e37a37f63frow0_col2\" class=\"data row0 col2\" >$18.96</td>\n",
       "            </tr>\n",
       "            <tr>\n",
       "                        <th id=\"T_cdbb5a18_9f59_11eb_8b1b_30e37a37f63flevel0_row1\" class=\"row_heading level0 row1\" >Idastidru52</th>\n",
       "                        <td id=\"T_cdbb5a18_9f59_11eb_8b1b_30e37a37f63frow1_col0\" class=\"data row1 col0\" >4</td>\n",
       "                        <td id=\"T_cdbb5a18_9f59_11eb_8b1b_30e37a37f63frow1_col1\" class=\"data row1 col1\" >$3.86</td>\n",
       "                        <td id=\"T_cdbb5a18_9f59_11eb_8b1b_30e37a37f63frow1_col2\" class=\"data row1 col2\" >$15.45</td>\n",
       "            </tr>\n",
       "            <tr>\n",
       "                        <th id=\"T_cdbb5a18_9f59_11eb_8b1b_30e37a37f63flevel0_row2\" class=\"row_heading level0 row2\" >Chamjask73</th>\n",
       "                        <td id=\"T_cdbb5a18_9f59_11eb_8b1b_30e37a37f63frow2_col0\" class=\"data row2 col0\" >3</td>\n",
       "                        <td id=\"T_cdbb5a18_9f59_11eb_8b1b_30e37a37f63frow2_col1\" class=\"data row2 col1\" >$4.61</td>\n",
       "                        <td id=\"T_cdbb5a18_9f59_11eb_8b1b_30e37a37f63frow2_col2\" class=\"data row2 col2\" >$13.83</td>\n",
       "            </tr>\n",
       "            <tr>\n",
       "                        <th id=\"T_cdbb5a18_9f59_11eb_8b1b_30e37a37f63flevel0_row3\" class=\"row_heading level0 row3\" >Iral74</th>\n",
       "                        <td id=\"T_cdbb5a18_9f59_11eb_8b1b_30e37a37f63frow3_col0\" class=\"data row3 col0\" >4</td>\n",
       "                        <td id=\"T_cdbb5a18_9f59_11eb_8b1b_30e37a37f63frow3_col1\" class=\"data row3 col1\" >$3.40</td>\n",
       "                        <td id=\"T_cdbb5a18_9f59_11eb_8b1b_30e37a37f63frow3_col2\" class=\"data row3 col2\" >$13.62</td>\n",
       "            </tr>\n",
       "            <tr>\n",
       "                        <th id=\"T_cdbb5a18_9f59_11eb_8b1b_30e37a37f63flevel0_row4\" class=\"row_heading level0 row4\" >Iskadarya95</th>\n",
       "                        <td id=\"T_cdbb5a18_9f59_11eb_8b1b_30e37a37f63frow4_col0\" class=\"data row4 col0\" >3</td>\n",
       "                        <td id=\"T_cdbb5a18_9f59_11eb_8b1b_30e37a37f63frow4_col1\" class=\"data row4 col1\" >$4.37</td>\n",
       "                        <td id=\"T_cdbb5a18_9f59_11eb_8b1b_30e37a37f63frow4_col2\" class=\"data row4 col2\" >$13.10</td>\n",
       "            </tr>\n",
       "    </tbody></table>"
      ],
      "text/plain": [
       "<pandas.io.formats.style.Styler at 0x2439158b0d0>"
      ]
     },
     "execution_count": 8,
     "metadata": {},
     "output_type": "execute_result"
    }
   ],
   "source": [
    "#Run basic calculations to obtain the results in the table below\n",
    "spender_info=purchase_data.groupby(\"SN\")\n",
    "count_spenders=spender_info[\"Purchase ID\"].count()\n",
    "avg_purchase_spenders=round(spender_info[\"Price\"].mean(),2)\n",
    "total_purchase_spenders=spender_info['Price'].sum()\n",
    "\n",
    "#Create a summary data frame to hold the results\n",
    "top_spenders = pd.DataFrame({\"Purchase Count\": count_spenders,\"Average Purchase Price\": avg_purchase_spenders,\"Total Purchase Value\":total_purchase_spenders})\n",
    "\n",
    "#Sort the total purchase value column in descending order\n",
    "top_spender = top_spenders.sort_values([\"Total Purchase Value\"], ascending=False).head()\n",
    "\n",
    "\n",
    "top_spender.style.format({\"Average Purchase Price\":\"${:,.2f}\",\"Total Purchase Value\":\"${:,.2f}\"})"
   ]
  },
  {
   "cell_type": "markdown",
   "metadata": {},
   "source": [
    "## Most Popular Items"
   ]
  },
  {
   "cell_type": "markdown",
   "metadata": {},
   "source": [
    "* Retrieve the Item ID, Item Name, and Item Price columns\n",
    "\n",
    "\n",
    "* Group by Item ID and Item Name. Perform calculations to obtain purchase count, average item price, and total purchase value\n",
    "\n",
    "\n",
    "* Create a summary data frame to hold the results\n",
    "\n",
    "\n",
    "* Sort the purchase count column in descending order\n",
    "\n",
    "\n",
    "* Optional: give the displayed data cleaner formatting\n",
    "\n",
    "\n",
    "* Display a preview of the summary data frame\n",
    "\n"
   ]
  },
  {
   "cell_type": "code",
   "execution_count": 9,
   "metadata": {},
   "outputs": [
    {
     "data": {
      "text/html": [
       "<style  type=\"text/css\" >\n",
       "</style><table id=\"T_cdc57eef_9f59_11eb_b576_30e37a37f63f\" ><thead>    <tr>        <th class=\"blank\" ></th>        <th class=\"blank level0\" ></th>        <th class=\"col_heading level0 col0\" >Purchase Count</th>        <th class=\"col_heading level0 col1\" >Item Price</th>        <th class=\"col_heading level0 col2\" >Total Purchase Value</th>    </tr>    <tr>        <th class=\"index_name level0\" >Item ID</th>        <th class=\"index_name level1\" >Item Name</th>        <th class=\"blank\" ></th>        <th class=\"blank\" ></th>        <th class=\"blank\" ></th>    </tr></thead><tbody>\n",
       "                <tr>\n",
       "                        <th id=\"T_cdc57eef_9f59_11eb_b576_30e37a37f63flevel0_row0\" class=\"row_heading level0 row0\" >92</th>\n",
       "                        <th id=\"T_cdc57eef_9f59_11eb_b576_30e37a37f63flevel1_row0\" class=\"row_heading level1 row0\" >Final Critic</th>\n",
       "                        <td id=\"T_cdc57eef_9f59_11eb_b576_30e37a37f63frow0_col0\" class=\"data row0 col0\" >13</td>\n",
       "                        <td id=\"T_cdc57eef_9f59_11eb_b576_30e37a37f63frow0_col1\" class=\"data row0 col1\" >$4.61</td>\n",
       "                        <td id=\"T_cdc57eef_9f59_11eb_b576_30e37a37f63frow0_col2\" class=\"data row0 col2\" >$59.99</td>\n",
       "            </tr>\n",
       "            <tr>\n",
       "                        <th id=\"T_cdc57eef_9f59_11eb_b576_30e37a37f63flevel0_row1\" class=\"row_heading level0 row1\" >178</th>\n",
       "                        <th id=\"T_cdc57eef_9f59_11eb_b576_30e37a37f63flevel1_row1\" class=\"row_heading level1 row1\" >Oathbreaker, Last Hope of the Breaking Storm</th>\n",
       "                        <td id=\"T_cdc57eef_9f59_11eb_b576_30e37a37f63frow1_col0\" class=\"data row1 col0\" >12</td>\n",
       "                        <td id=\"T_cdc57eef_9f59_11eb_b576_30e37a37f63frow1_col1\" class=\"data row1 col1\" >$4.23</td>\n",
       "                        <td id=\"T_cdc57eef_9f59_11eb_b576_30e37a37f63frow1_col2\" class=\"data row1 col2\" >$50.76</td>\n",
       "            </tr>\n",
       "            <tr>\n",
       "                        <th id=\"T_cdc57eef_9f59_11eb_b576_30e37a37f63flevel0_row2\" class=\"row_heading level0 row2\" >145</th>\n",
       "                        <th id=\"T_cdc57eef_9f59_11eb_b576_30e37a37f63flevel1_row2\" class=\"row_heading level1 row2\" >Fiery Glass Crusader</th>\n",
       "                        <td id=\"T_cdc57eef_9f59_11eb_b576_30e37a37f63frow2_col0\" class=\"data row2 col0\" >9</td>\n",
       "                        <td id=\"T_cdc57eef_9f59_11eb_b576_30e37a37f63frow2_col1\" class=\"data row2 col1\" >$4.58</td>\n",
       "                        <td id=\"T_cdc57eef_9f59_11eb_b576_30e37a37f63frow2_col2\" class=\"data row2 col2\" >$41.22</td>\n",
       "            </tr>\n",
       "            <tr>\n",
       "                        <th id=\"T_cdc57eef_9f59_11eb_b576_30e37a37f63flevel0_row3\" class=\"row_heading level0 row3\" >132</th>\n",
       "                        <th id=\"T_cdc57eef_9f59_11eb_b576_30e37a37f63flevel1_row3\" class=\"row_heading level1 row3\" >Persuasion</th>\n",
       "                        <td id=\"T_cdc57eef_9f59_11eb_b576_30e37a37f63frow3_col0\" class=\"data row3 col0\" >9</td>\n",
       "                        <td id=\"T_cdc57eef_9f59_11eb_b576_30e37a37f63frow3_col1\" class=\"data row3 col1\" >$3.22</td>\n",
       "                        <td id=\"T_cdc57eef_9f59_11eb_b576_30e37a37f63frow3_col2\" class=\"data row3 col2\" >$28.99</td>\n",
       "            </tr>\n",
       "            <tr>\n",
       "                        <th id=\"T_cdc57eef_9f59_11eb_b576_30e37a37f63flevel0_row4\" class=\"row_heading level0 row4\" >108</th>\n",
       "                        <th id=\"T_cdc57eef_9f59_11eb_b576_30e37a37f63flevel1_row4\" class=\"row_heading level1 row4\" >Extraction, Quickblade Of Trembling Hands</th>\n",
       "                        <td id=\"T_cdc57eef_9f59_11eb_b576_30e37a37f63frow4_col0\" class=\"data row4 col0\" >9</td>\n",
       "                        <td id=\"T_cdc57eef_9f59_11eb_b576_30e37a37f63frow4_col1\" class=\"data row4 col1\" >$3.53</td>\n",
       "                        <td id=\"T_cdc57eef_9f59_11eb_b576_30e37a37f63frow4_col2\" class=\"data row4 col2\" >$31.77</td>\n",
       "            </tr>\n",
       "    </tbody></table>"
      ],
      "text/plain": [
       "<pandas.io.formats.style.Styler at 0x2438e333610>"
      ]
     },
     "execution_count": 9,
     "metadata": {},
     "output_type": "execute_result"
    }
   ],
   "source": [
    "#Retrieve the Item ID, Item Name, and Item Price columns\n",
    "item_data = purchase_data[[\"Item ID\", \"Item Name\", \"Price\"]]\n",
    "item_info = item_data.groupby([\"Item ID\",\"Item Name\"])\n",
    "                          \n",
    "#Group by Item ID and Item Name. Perform calculations to obtain purchase count, average item price, and total purchase value\n",
    "purchase_count_item = item_info[\"Price\"].count()\n",
    "total_purchase_value = (item_info[\"Price\"].sum()) \n",
    "average_item_price = total_purchase_value/purchase_count_item\n",
    "\n",
    "# Create data frame with obtained values\n",
    "most_popular_items = pd.DataFrame({\"Purchase Count\": purchase_count_item,\"Item Price\": average_item_price,\"Total Purchase Value\":total_purchase_value})\n",
    "\n",
    "# Sort in descending order to obtain top spender names and provide top 5 item names\n",
    "format_most_popular_items = most_popular_items.sort_values([\"Purchase Count\"], ascending=False).head()\n",
    "\n",
    "# Format with currency style\n",
    "format_most_popular_items.style.format({\"Item Price\":\"${:,.2f}\",\"Total Purchase Value\":\"${:,.2f}\"})"
   ]
  },
  {
   "cell_type": "markdown",
   "metadata": {},
   "source": [
    "## Most Profitable Items"
   ]
  },
  {
   "cell_type": "markdown",
   "metadata": {},
   "source": [
    "* Sort the above table by total purchase value in descending order\n",
    "\n",
    "\n",
    "* Optional: give the displayed data cleaner formatting\n",
    "\n",
    "\n",
    "* Display a preview of the data frame\n",
    "\n"
   ]
  },
  {
   "cell_type": "code",
   "execution_count": 10,
   "metadata": {
    "scrolled": true
   },
   "outputs": [
    {
     "data": {
      "text/html": [
       "<style  type=\"text/css\" >\n",
       "</style><table id=\"T_cdd181d3_9f59_11eb_8efd_30e37a37f63f\" ><thead>    <tr>        <th class=\"blank\" ></th>        <th class=\"blank level0\" ></th>        <th class=\"col_heading level0 col0\" >Purchase Count</th>        <th class=\"col_heading level0 col1\" >Item Price</th>        <th class=\"col_heading level0 col2\" >Total Purchase Value</th>    </tr>    <tr>        <th class=\"index_name level0\" >Item ID</th>        <th class=\"index_name level1\" >Item Name</th>        <th class=\"blank\" ></th>        <th class=\"blank\" ></th>        <th class=\"blank\" ></th>    </tr></thead><tbody>\n",
       "                <tr>\n",
       "                        <th id=\"T_cdd181d3_9f59_11eb_8efd_30e37a37f63flevel0_row0\" class=\"row_heading level0 row0\" >92</th>\n",
       "                        <th id=\"T_cdd181d3_9f59_11eb_8efd_30e37a37f63flevel1_row0\" class=\"row_heading level1 row0\" >Final Critic</th>\n",
       "                        <td id=\"T_cdd181d3_9f59_11eb_8efd_30e37a37f63frow0_col0\" class=\"data row0 col0\" >13</td>\n",
       "                        <td id=\"T_cdd181d3_9f59_11eb_8efd_30e37a37f63frow0_col1\" class=\"data row0 col1\" >$4.61</td>\n",
       "                        <td id=\"T_cdd181d3_9f59_11eb_8efd_30e37a37f63frow0_col2\" class=\"data row0 col2\" >$59.99</td>\n",
       "            </tr>\n",
       "            <tr>\n",
       "                        <th id=\"T_cdd181d3_9f59_11eb_8efd_30e37a37f63flevel0_row1\" class=\"row_heading level0 row1\" >178</th>\n",
       "                        <th id=\"T_cdd181d3_9f59_11eb_8efd_30e37a37f63flevel1_row1\" class=\"row_heading level1 row1\" >Oathbreaker, Last Hope of the Breaking Storm</th>\n",
       "                        <td id=\"T_cdd181d3_9f59_11eb_8efd_30e37a37f63frow1_col0\" class=\"data row1 col0\" >12</td>\n",
       "                        <td id=\"T_cdd181d3_9f59_11eb_8efd_30e37a37f63frow1_col1\" class=\"data row1 col1\" >$4.23</td>\n",
       "                        <td id=\"T_cdd181d3_9f59_11eb_8efd_30e37a37f63frow1_col2\" class=\"data row1 col2\" >$50.76</td>\n",
       "            </tr>\n",
       "            <tr>\n",
       "                        <th id=\"T_cdd181d3_9f59_11eb_8efd_30e37a37f63flevel0_row2\" class=\"row_heading level0 row2\" >82</th>\n",
       "                        <th id=\"T_cdd181d3_9f59_11eb_8efd_30e37a37f63flevel1_row2\" class=\"row_heading level1 row2\" >Nirvana</th>\n",
       "                        <td id=\"T_cdd181d3_9f59_11eb_8efd_30e37a37f63frow2_col0\" class=\"data row2 col0\" >9</td>\n",
       "                        <td id=\"T_cdd181d3_9f59_11eb_8efd_30e37a37f63frow2_col1\" class=\"data row2 col1\" >$4.90</td>\n",
       "                        <td id=\"T_cdd181d3_9f59_11eb_8efd_30e37a37f63frow2_col2\" class=\"data row2 col2\" >$44.10</td>\n",
       "            </tr>\n",
       "            <tr>\n",
       "                        <th id=\"T_cdd181d3_9f59_11eb_8efd_30e37a37f63flevel0_row3\" class=\"row_heading level0 row3\" >145</th>\n",
       "                        <th id=\"T_cdd181d3_9f59_11eb_8efd_30e37a37f63flevel1_row3\" class=\"row_heading level1 row3\" >Fiery Glass Crusader</th>\n",
       "                        <td id=\"T_cdd181d3_9f59_11eb_8efd_30e37a37f63frow3_col0\" class=\"data row3 col0\" >9</td>\n",
       "                        <td id=\"T_cdd181d3_9f59_11eb_8efd_30e37a37f63frow3_col1\" class=\"data row3 col1\" >$4.58</td>\n",
       "                        <td id=\"T_cdd181d3_9f59_11eb_8efd_30e37a37f63frow3_col2\" class=\"data row3 col2\" >$41.22</td>\n",
       "            </tr>\n",
       "            <tr>\n",
       "                        <th id=\"T_cdd181d3_9f59_11eb_8efd_30e37a37f63flevel0_row4\" class=\"row_heading level0 row4\" >103</th>\n",
       "                        <th id=\"T_cdd181d3_9f59_11eb_8efd_30e37a37f63flevel1_row4\" class=\"row_heading level1 row4\" >Singed Scalpel</th>\n",
       "                        <td id=\"T_cdd181d3_9f59_11eb_8efd_30e37a37f63frow4_col0\" class=\"data row4 col0\" >8</td>\n",
       "                        <td id=\"T_cdd181d3_9f59_11eb_8efd_30e37a37f63frow4_col1\" class=\"data row4 col1\" >$4.35</td>\n",
       "                        <td id=\"T_cdd181d3_9f59_11eb_8efd_30e37a37f63frow4_col2\" class=\"data row4 col2\" >$34.80</td>\n",
       "            </tr>\n",
       "    </tbody></table>"
      ],
      "text/plain": [
       "<pandas.io.formats.style.Styler at 0x2439158ba90>"
      ]
     },
     "execution_count": 10,
     "metadata": {},
     "output_type": "execute_result"
    }
   ],
   "source": [
    "#Sort the above table by total purchase value in descending order\n",
    "format_most_popular_items= most_popular_items.sort_values([\"Total Purchase Value\"],ascending=False).head()\n",
    "#Optional: give the displayed data cleaner formatting\n",
    "format_most_popular_items.style.format({\"Item Price\":\"${:,.2f}\",\"Total Purchase Value\":\"${:,.2f}\"})\n",
    "#Display a preview of the data frame"
   ]
  },
  {
   "cell_type": "code",
   "execution_count": null,
   "metadata": {},
   "outputs": [],
   "source": []
  },
  {
   "cell_type": "markdown",
   "metadata": {},
   "source": [
    "## Data Analysis and Conclusions:\n",
    "\n",
    "\n",
    "1. Out of the 576 total players the gender demographics percentage Male accounts for, 84.03% followed by Female, 14.06%. Male also topped the list on most purchases at 1,967.64 the female gender only for 361.94.  It clearly shows video gaming is a male dominated market and the numbers from female gamers are slim compare to male, we could make the assumption it's not being marketed well to women or they have less downtime than the male audience.\n",
    "\n",
    "\n",
    "2. On the age demographics, the 20-24 age group has the highest purchases at 44.79%, followed by the 15-19 age group at 18.58% and thirdly by the 25-29 age group at 13.37%. Video gaming trend up to the youger generation and the percentage trends down to the much older age group bracket, 30-34 at 9.03%, 35-39 at 5.38% and 40+ at 2.08%.\n",
    "\n",
    "3. The top three spenders are Lisosia93, Idastidru52, and Chamjask73.  In terms of most popular the top three are \"Final Critic\", \"Oathbreaker, Last Hope of the Breaking Storm\" and \"Fiery Glass Crusader\".  For the most profitable items it's pretty similar with \"Final Critic\", \"Oathbreaker, Last Hope of the Breaking Storm\" and \"Nirvana\" making up the list. Nirvana slightly edge Fiery Glass Crusader and dislodged from 3rd place. \n"
   ]
  }
 ],
 "metadata": {
  "anaconda-cloud": {},
  "kernel_info": {
   "name": "python3"
  },
  "kernelspec": {
   "display_name": "Python 3",
   "language": "python",
   "name": "python3"
  },
  "language_info": {
   "codemirror_mode": {
    "name": "ipython",
    "version": 3
   },
   "file_extension": ".py",
   "mimetype": "text/x-python",
   "name": "python",
   "nbconvert_exporter": "python",
   "pygments_lexer": "ipython3",
   "version": "3.8.5"
  },
  "latex_envs": {
   "LaTeX_envs_menu_present": true,
   "autoclose": false,
   "autocomplete": true,
   "bibliofile": "biblio.bib",
   "cite_by": "apalike",
   "current_citInitial": 1,
   "eqLabelWithNumbers": true,
   "eqNumInitial": 1,
   "hotkeys": {
    "equation": "Ctrl-E",
    "itemize": "Ctrl-I"
   },
   "labels_anchors": false,
   "latex_user_defs": false,
   "report_style_numbering": false,
   "user_envs_cfg": false
  },
  "nteract": {
   "version": "0.2.0"
  }
 },
 "nbformat": 4,
 "nbformat_minor": 2
}
